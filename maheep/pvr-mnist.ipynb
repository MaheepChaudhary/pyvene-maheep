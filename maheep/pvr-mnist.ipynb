{
 "cells": [
  {
   "cell_type": "markdown",
   "metadata": {},
   "source": [
    "# 🧱🏭 **Training and Building of PVRE-MNIST Dataset**\n",
    "\n",
    "**Source:** [Inducing Causal Structure for Interpretable Neural Networks](\"https://arxiv.org/pdf/2112.00826.pdf\")\n",
    "\n",
    "## 📝 Notes:\n",
    "\n",
    "* Input is a grid of $4$ images of mnist. \n",
    "* The $4$ input images are defined as $(I_{TL}, I_{TR}, I_{BL}, T_{BR})$\n",
    "* It creates a test split designed in a way by removing examples from train examples, which meets the following conditions:\n",
    "    * Top right image $(i_{TR}) \\in \\{1,2,3\\}$, $(i_{BL}) \\in \\{4,5,6\\}$ or $(i_{BR}) \\in \\{0,7,8,9\\}$  \n",
    "\n"
   ]
  },
  {
   "cell_type": "markdown",
   "metadata": {},
   "source": [
    "## 📊👨🏻‍💻 **Splitting the train-test split based on the condition**\n",
    "\n",
    "* PVR-MNIST is created such that a test split designed in a way by removing examples from train examples, which meets the following conditions:\n",
    "    * Top right image $(i_{TR}) \\in \\{1,2,3\\}$, $(i_{BL}) \\in \\{4,5,6\\}$ or $(i_{BR}) \\in \\{0,7,8,9\\}$  \n",
    "\n"
   ]
  },
  {
   "cell_type": "code",
   "execution_count": 9,
   "metadata": {},
   "outputs": [],
   "source": [
    "from imports import *\n",
    "\n",
    "folder_path = 'pvr_mnist_dataset/images/'"
   ]
  },
  {
   "cell_type": "code",
   "execution_count": 10,
   "metadata": {},
   "outputs": [],
   "source": [
    "# names = [i for i in os.listdir(folder_path)]\n",
    "# images = [[np.array(Image.open(os.path.join(folder_path,names[i])).convert('RGB')), int(*re.findall(r'\\d+',names[i]))] for i in tqdm(range(len(names)))]\n",
    "\n",
    " \n",
    "# # p(len(images))"
   ]
  },
  {
   "cell_type": "code",
   "execution_count": 11,
   "metadata": {},
   "outputs": [],
   "source": [
    "# images"
   ]
  },
  {
   "cell_type": "code",
   "execution_count": 12,
   "metadata": {},
   "outputs": [],
   "source": [
    "# images_, labels = zip(*images)\n",
    "\n",
    "# # Convert to numpy arrays\n",
    "# images_np = np.array(images_)\n",
    "# labels_np = np.array(labels)\n",
    "\n",
    "# # Save images and labels to .npy files\n",
    "# np.save('images.npy', images_np)\n",
    "# np.save('labels.npy', labels_np)\n"
   ]
  },
  {
   "cell_type": "code",
   "execution_count": 13,
   "metadata": {},
   "outputs": [],
   "source": [
    "images = np.load('images.npy')\n",
    "labels_index = np.load('labels.npy')"
   ]
  },
  {
   "cell_type": "code",
   "execution_count": 14,
   "metadata": {},
   "outputs": [
    {
     "data": {
      "text/plain": [
       "'/Users/maheepchaudhary/pytorch/Projects/Stanford/pyvene-maheep/maheep'"
      ]
     },
     "execution_count": 14,
     "metadata": {},
     "output_type": "execute_result"
    }
   ],
   "source": [
    "import os\n",
    "os.getcwd()"
   ]
  },
  {
   "cell_type": "code",
   "execution_count": 15,
   "metadata": {},
   "outputs": [],
   "source": [
    "labels = np.load('pvr_mnist_dataset/labels/combined_labels.npy')"
   ]
  },
  {
   "cell_type": "code",
   "execution_count": 16,
   "metadata": {},
   "outputs": [
    {
     "data": {
      "image/jpeg": "[encoded data removed]",
      "image/png": "[encoded data removed]",
      "text/plain": [
       "<PIL.Image.Image image mode=RGB size=56x56>"
      ]
     },
     "execution_count": 16,
     "metadata": {},
     "output_type": "execute_result"
    }
   ],
   "source": [
    "transforms.ToPILImage()(images[0])"
   ]
  },
  {
   "attachments": {
    "image.png": {
     "image/png": "[encoded data removed]"
    }
   },
   "cell_type": "markdown",
   "metadata": {},
   "source": [
    "The format of the image is like:\n",
    "\n",
    "![image.png](attachment:image.png)\n",
    "\n",
    "Meanwhile the label is in the format: array([5, 7, 3, 3]), i.e. $(i_{TL},i_{BL},i_{TR},i_{BR})$"
   ]
  },
  {
   "cell_type": "code",
   "execution_count": 17,
   "metadata": {},
   "outputs": [
    {
     "name": "stdout",
     "output_type": "stream",
     "text": [
      "[[5 1 3 9]\n",
      " [8 0 8 0]\n",
      " [2 9 5 9]\n",
      " ...\n",
      " [3 9 5 8]\n",
      " [3 4 5 8]\n",
      " [3 9 0 9]]\n"
     ]
    }
   ],
   "source": [
    "print(labels)"
   ]
  },
  {
   "cell_type": "code",
   "execution_count": 18,
   "metadata": {},
   "outputs": [
    {
     "data": {
      "text/plain": [
       "array([2, 3, 9, 1])"
      ]
     },
     "execution_count": 18,
     "metadata": {},
     "output_type": "execute_result"
    }
   ],
   "source": [
    "labels[labels_index[0]]"
   ]
  },
  {
   "cell_type": "code",
   "execution_count": 19,
   "metadata": {},
   "outputs": [],
   "source": [
    "train_image, test_image, train_label, test_label = [], [], [], []\n",
    "\n",
    "\n",
    "def filter(images, labels):\n",
    "    for image, label_index in tqdm(zip(images, labels_index)):\n",
    "        label = list(labels[label_index])\n",
    "        if label[2] in {1,2,3} or label[1] in {4,5,6} or label[-1] in {0,7,8,9}:\n",
    "            test_image.append(image)\n",
    "            test_label.append(label)\n",
    "        else:\n",
    "            train_image.append(image)\n",
    "            train_label.append(label)\n",
    "\n",
    "    return train_image, test_image, train_label, test_label"
   ]
  },
  {
   "cell_type": "code",
   "execution_count": 20,
   "metadata": {},
   "outputs": [
    {
     "name": "stderr",
     "output_type": "stream",
     "text": [
      "0it [00:00, ?it/s]"
     ]
    },
    {
     "name": "stderr",
     "output_type": "stream",
     "text": [
      "1000000it [00:01, 701518.61it/s]\n"
     ]
    }
   ],
   "source": [
    "train_image, test_image, train_label, test_label = filter(images, labels)"
   ]
  },
  {
   "cell_type": "code",
   "execution_count": 21,
   "metadata": {},
   "outputs": [
    {
     "name": "stderr",
     "output_type": "stream",
     "text": [
      "100%|██████████| 706818/706818 [00:00<00:00, 6463871.82it/s]\n",
      "100%|██████████| 293182/293182 [00:00<00:00, 5551768.14it/s]\n"
     ]
    }
   ],
   "source": [
    "# Meanwhile the label is in the format: array([5, 7, 3, 3]), i.e. $(i_{TL},i_{BL},i_{TR},i_{BR})$\n",
    "\n",
    "def updated_labels(labels):\n",
    "\n",
    "    updated_labels = []\n",
    "\n",
    "    for label in tqdm(labels):\n",
    "        if label[0] in {0,1,2,3}:\n",
    "            updated_labels.append(label[2])\n",
    "        elif label[0] in {4,5,6}:\n",
    "            updated_labels.append(label[1])\n",
    "        else:\n",
    "            updated_labels.append(label[-1])\n",
    "    \n",
    "    return updated_labels\n",
    "\n",
    "test_updated_labels = updated_labels(test_label)\n",
    "train_updated_labels = updated_labels(train_label) "
   ]
  },
  {
   "cell_type": "code",
   "execution_count": 22,
   "metadata": {},
   "outputs": [
    {
     "data": {
      "image/jpeg": "[encoded data removed]",
      "image/png": "[encoded data removed]",
      "text/plain": [
       "<PIL.Image.Image image mode=RGB size=56x56>"
      ]
     },
     "execution_count": 22,
     "metadata": {},
     "output_type": "execute_result"
    }
   ],
   "source": [
    "transforms.ToPILImage()(train_image[0])\n"
   ]
  },
  {
   "cell_type": "code",
   "execution_count": 23,
   "metadata": {},
   "outputs": [
    {
     "data": {
      "text/plain": [
       "9"
      ]
     },
     "execution_count": 23,
     "metadata": {},
     "output_type": "execute_result"
    }
   ],
   "source": [
    "train_updated_labels[0]"
   ]
  },
  {
   "cell_type": "code",
   "execution_count": 24,
   "metadata": {},
   "outputs": [
    {
     "name": "stderr",
     "output_type": "stream",
     "text": [
      "100%|██████████| 293182/293182 [00:06<00:00, 44561.95it/s]\n"
     ]
    },
    {
     "name": "stdout",
     "output_type": "stream",
     "text": [
      "torch.Size([293182, 3, 56, 56])\n"
     ]
    },
    {
     "name": "stderr",
     "output_type": "stream",
     "text": [
      "100%|██████████| 706818/706818 [00:14<00:00, 49515.55it/s]\n"
     ]
    },
    {
     "data": {
      "text/plain": [
       "tensor([[[[  0.,   0.,   0.,  ...,   0.,   0.,   0.],\n",
       "          [  0.,   0.,   0.,  ...,   0.,   0.,   0.],\n",
       "          [  0.,   0.,   0.,  ...,   0.,   0.,   0.],\n",
       "          ...,\n",
       "          [  0.,   0.,   0.,  ...,   0.,   0.,   0.],\n",
       "          [  0.,   0.,   0.,  ..., 191., 255., 255.],\n",
       "          [255., 255., 255.,  ...,   0.,   0.,   0.]],\n",
       "\n",
       "         [[  0.,   0.,   0.,  ...,   0.,   0.,   0.],\n",
       "          [  0.,   0.,   0.,  ..., 255., 255., 255.],\n",
       "          [255., 255., 255.,  ...,   0.,   0.,   0.],\n",
       "          ...,\n",
       "          [  0.,   0.,   0.,  ..., 137., 137., 204.],\n",
       "          [204., 204., 253.,  ...,   0.,   0.,   0.],\n",
       "          [  0.,   0.,   0.,  ...,   0.,   0.,   0.]],\n",
       "\n",
       "         [[  0.,   0.,   0.,  ..., 251., 251., 253.],\n",
       "          [253., 253., 253.,  ...,   0.,   0.,   0.],\n",
       "          [  0.,   0.,   0.,  ...,   0.,   0.,   0.],\n",
       "          ...,\n",
       "          [  0.,   0.,   0.,  ...,   0.,   0.,   0.],\n",
       "          [  0.,   0.,   0.,  ...,   0.,   0.,   0.],\n",
       "          [  0.,   0.,   0.,  ...,   0.,   0.,   0.]]],\n",
       "\n",
       "\n",
       "        [[[  0.,   0.,   0.,  ...,   0.,   0.,   0.],\n",
       "          [  0.,   0.,   0.,  ...,   0.,   0.,   0.],\n",
       "          [  0.,   0.,   0.,  ...,   0.,   0.,   0.],\n",
       "          ...,\n",
       "          [  0.,   0.,   0.,  ...,   0.,   0.,   0.],\n",
       "          [  0.,   0.,   0.,  ..., 146., 234., 234.],\n",
       "          [234., 233., 233.,  ...,   0.,   0.,   0.]],\n",
       "\n",
       "         [[  0.,   0.,   0.,  ...,   0.,   0.,   0.],\n",
       "          [  0.,   0.,   0.,  ...,   0.,  38.,  38.],\n",
       "          [ 38.,  37.,  37.,  ...,   0.,   0.,   0.],\n",
       "          ...,\n",
       "          [252., 252., 252.,  ...,   0.,   0.,   0.],\n",
       "          [  0.,   0.,   0.,  ...,   0.,   0.,   0.],\n",
       "          [  0.,   0.,   0.,  ..., 128., 252., 252.]],\n",
       "\n",
       "         [[252., 252., 252.,  ...,   0.,   0.,   0.],\n",
       "          [  0.,   0.,   0.,  ...,   0.,   0.,   0.],\n",
       "          [  0.,   0.,   0.,  ..., 129., 252., 252.],\n",
       "          ...,\n",
       "          [  0.,   0.,   0.,  ...,   0.,   0.,   0.],\n",
       "          [  0.,   0.,   0.,  ...,   0.,   0.,   0.],\n",
       "          [  0.,   0.,   0.,  ...,   0.,   0.,   0.]]],\n",
       "\n",
       "\n",
       "        [[[  0.,   0.,   0.,  ...,   0.,   0.,   0.],\n",
       "          [  0.,   0.,   0.,  ...,   0.,   0.,   0.],\n",
       "          [  0.,   0.,   0.,  ...,   0.,   0.,   0.],\n",
       "          ...,\n",
       "          [  0.,   0.,   0.,  ...,   0.,   0.,   0.],\n",
       "          [  0.,   0.,   0.,  ..., 255., 255., 255.],\n",
       "          [255., 255., 255.,  ...,   0.,   0.,   0.]],\n",
       "\n",
       "         [[  0.,   0.,   0.,  ...,   0.,   0.,   0.],\n",
       "          [  0.,   0.,   0.,  ..., 255., 255., 255.],\n",
       "          [255., 255., 255.,  ...,   0.,   0.,   0.],\n",
       "          ...,\n",
       "          [  9.,   0.,   0.,  ..., 253., 253., 253.],\n",
       "          [253., 253.,  59.,  ...,   0.,   0.,   0.],\n",
       "          [  0.,   0.,   0.,  ...,   0.,   7.,   7.]],\n",
       "\n",
       "         [[  7., 154., 154.,  ..., 253., 253., 253.],\n",
       "          [253., 253.,  71.,  ...,   0.,   0.,   0.],\n",
       "          [  0.,   0.,   0.,  ..., 170., 187., 187.],\n",
       "          ...,\n",
       "          [  0.,   0.,   0.,  ...,   0.,   0.,   0.],\n",
       "          [  0.,   0.,   0.,  ...,   0.,   0.,   0.],\n",
       "          [  0.,   0.,   0.,  ...,   0.,   0.,   0.]]],\n",
       "\n",
       "\n",
       "        ...,\n",
       "\n",
       "\n",
       "        [[[  0.,   0.,   0.,  ...,   0.,   0.,   0.],\n",
       "          [  0.,   0.,   0.,  ...,   0.,   0.,   0.],\n",
       "          [  0.,   0.,   0.,  ...,   0.,   0.,   0.],\n",
       "          ...,\n",
       "          [  0.,   0.,   0.,  ...,   0.,   0.,   0.],\n",
       "          [  0.,   0.,   0.,  ...,   0.,   0.,   0.],\n",
       "          [  0.,   0.,   0.,  ...,   0.,   0.,   0.]],\n",
       "\n",
       "         [[  0.,   0.,   0.,  ...,   0.,   0.,   0.],\n",
       "          [  0.,   0.,   0.,  ...,   0.,   0.,   0.],\n",
       "          [  0.,   0.,   0.,  ...,   0.,   0.,   0.],\n",
       "          ...,\n",
       "          [244., 253., 253.,  ...,  46.,  46., 186.],\n",
       "          [186., 186., 250.,  ...,   0.,   0.,   0.],\n",
       "          [  0.,   0.,   0.,  ...,   0., 138., 138.]],\n",
       "\n",
       "         [[138., 252., 252.,  ..., 193., 193., 254.],\n",
       "          [254., 254., 253.,  ...,   0.,   0.,   0.],\n",
       "          [  0.,   0.,   0.,  ...,   0., 138., 138.],\n",
       "          ...,\n",
       "          [  0.,   0.,   0.,  ...,   0.,   0.,   0.],\n",
       "          [  0.,   0.,   0.,  ...,   0.,   0.,   0.],\n",
       "          [  0.,   0.,   0.,  ...,   0.,   0.,   0.]]],\n",
       "\n",
       "\n",
       "        [[[  0.,   0.,   0.,  ...,   0.,   0.,   0.],\n",
       "          [  0.,   0.,   0.,  ...,   0.,   0.,   0.],\n",
       "          [  0.,   0.,   0.,  ...,   0.,   0.,   0.],\n",
       "          ...,\n",
       "          [  0.,   0.,   0.,  ...,   0.,   0.,   0.],\n",
       "          [  0.,   0.,   0.,  ...,   0., 115., 115.],\n",
       "          [115., 253., 253.,  ...,  48.,  48.,  85.]],\n",
       "\n",
       "         [[ 85.,  85., 210.,  ...,   0.,   0.,   0.],\n",
       "          [  0.,   0.,   0.,  ...,   0., 115., 115.],\n",
       "          [115., 253., 253.,  ..., 227., 227., 253.],\n",
       "          ...,\n",
       "          [  0.,   0.,   0.,  ..., 170., 170., 226.],\n",
       "          [226., 226., 141.,  ...,   0.,   0.,   0.],\n",
       "          [  0.,   0.,   0.,  ..., 225., 226., 226.]],\n",
       "\n",
       "         [[226., 225., 225.,  ..., 170., 170.,  29.],\n",
       "          [ 29.,  29.,   0.,  ...,   0.,   0.,   0.],\n",
       "          [  0.,   0.,   0.,  ..., 225., 226., 226.],\n",
       "          ...,\n",
       "          [  0.,   0.,   0.,  ...,   0.,   0.,   0.],\n",
       "          [  0.,   0.,   0.,  ...,   0.,   0.,   0.],\n",
       "          [  0.,   0.,   0.,  ...,   0.,   0.,   0.]]],\n",
       "\n",
       "\n",
       "        [[[  0.,   0.,   0.,  ...,   0.,   0.,   0.],\n",
       "          [  0.,   0.,   0.,  ...,   0.,   0.,   0.],\n",
       "          [  0.,   0.,   0.,  ...,   0.,   0.,   0.],\n",
       "          ...,\n",
       "          [  0.,   0.,   0.,  ...,   0.,   0.,   0.],\n",
       "          [  0.,   0.,   0.,  ...,  99., 145., 145.],\n",
       "          [145., 167., 167.,  ...,   0.,   0.,   0.]],\n",
       "\n",
       "         [[  0.,   0.,   0.,  ...,   0.,   0.,   0.],\n",
       "          [  0.,   0.,   0.,  ...,  64., 168., 168.],\n",
       "          [168., 160., 160.,  ...,   0.,   0.,   0.],\n",
       "          ...,\n",
       "          [  0.,   0.,   0.,  ...,   0.,   0.,   0.],\n",
       "          [  0.,   0.,   0.,  ...,   0.,   0.,   0.],\n",
       "          [  0.,   0.,   0.,  ...,   0.,   0.,   0.]],\n",
       "\n",
       "         [[  0.,   0.,   0.,  ...,   0.,   0.,   0.],\n",
       "          [  0.,   0.,   0.,  ...,   0.,   0.,   0.],\n",
       "          [  0.,   0.,   0.,  ...,   0.,   0.,   0.],\n",
       "          ...,\n",
       "          [  0.,   0.,   0.,  ...,   0.,   0.,   0.],\n",
       "          [  0.,   0.,   0.,  ...,   0.,   0.,   0.],\n",
       "          [  0.,   0.,   0.,  ...,   0.,   0.,   0.]]]])"
      ]
     },
     "execution_count": 24,
     "metadata": {},
     "output_type": "execute_result"
    }
   ],
   "source": [
    "\n",
    "train_images = np.stack([np.array(transforms.ToPILImage()(image)) for image in tqdm(train_image)])\n",
    "train_images = torch.tensor(train_images).float().reshape(-1, 3, 56, 56)\n",
    "print(train_images.shape)\n",
    "\n",
    "train_images\n",
    "\n",
    "\n",
    "test_images = np.stack([np.array(transforms.ToPILImage()(image)) for image in tqdm(test_image)])\n",
    "test_images = torch.tensor(test_images).float().reshape(-1, 3, 56, 56)\n",
    "# test_images = test_images.repeat(1, 3, 1, 1)\n",
    "\n",
    "test_images\n"
   ]
  },
  {
   "cell_type": "code",
   "execution_count": 25,
   "metadata": {},
   "outputs": [
    {
     "data": {
      "text/plain": [
       "torch.Size([293182, 3, 56, 56])"
      ]
     },
     "execution_count": 25,
     "metadata": {},
     "output_type": "execute_result"
    }
   ],
   "source": [
    "train_images.shape"
   ]
  },
  {
   "attachments": {
    "image.png": {
     "image/png": "[encoded data removed]"
    }
   },
   "cell_type": "markdown",
   "metadata": {},
   "source": [
    "We will have to modify the labels based on the condition: \n",
    "\n",
    "![image.png](attachment:image.png)"
   ]
  },
  {
   "cell_type": "code",
   "execution_count": 26,
   "metadata": {},
   "outputs": [],
   "source": [
    "test_labels = torch.tensor(np.array(test_updated_labels)).long()\n",
    "train_labels = torch.tensor(np.array(train_updated_labels)).long()"
   ]
  },
  {
   "cell_type": "markdown",
   "metadata": {},
   "source": [
    "## 🚅🏋🏻‍♂️ **Training the ResNet on PVR-MNIST Dataset**"
   ]
  },
  {
   "cell_type": "code",
   "execution_count": 27,
   "metadata": {},
   "outputs": [
    {
     "data": {
      "text/plain": [
       "ResNetConfig {\n",
       "  \"depths\": [\n",
       "    3,\n",
       "    4,\n",
       "    6,\n",
       "    3\n",
       "  ],\n",
       "  \"downsample_in_bottleneck\": false,\n",
       "  \"downsample_in_first_stage\": false,\n",
       "  \"embedding_size\": 64,\n",
       "  \"hidden_act\": \"relu\",\n",
       "  \"hidden_sizes\": [\n",
       "    256,\n",
       "    512,\n",
       "    1024,\n",
       "    2048\n",
       "  ],\n",
       "  \"id2label\": {\n",
       "    \"0\": \"LABEL_0\",\n",
       "    \"1\": \"LABEL_1\",\n",
       "    \"2\": \"LABEL_2\",\n",
       "    \"3\": \"LABEL_3\",\n",
       "    \"4\": \"LABEL_4\",\n",
       "    \"5\": \"LABEL_5\",\n",
       "    \"6\": \"LABEL_6\",\n",
       "    \"7\": \"LABEL_7\",\n",
       "    \"8\": \"LABEL_8\",\n",
       "    \"9\": \"LABEL_9\"\n",
       "  },\n",
       "  \"label2id\": {\n",
       "    \"LABEL_0\": 0,\n",
       "    \"LABEL_1\": 1,\n",
       "    \"LABEL_2\": 2,\n",
       "    \"LABEL_3\": 3,\n",
       "    \"LABEL_4\": 4,\n",
       "    \"LABEL_5\": 5,\n",
       "    \"LABEL_6\": 6,\n",
       "    \"LABEL_7\": 7,\n",
       "    \"LABEL_8\": 8,\n",
       "    \"LABEL_9\": 9\n",
       "  },\n",
       "  \"layer_type\": \"bottleneck\",\n",
       "  \"model_type\": \"resnet\",\n",
       "  \"num_channels\": 3,\n",
       "  \"out_features\": [\n",
       "    \"stage4\"\n",
       "  ],\n",
       "  \"out_indices\": [\n",
       "    4\n",
       "  ],\n",
       "  \"pooler_shape\": [\n",
       "    1,\n",
       "    1,\n",
       "    14,\n",
       "    14\n",
       "  ],\n",
       "  \"stage_names\": [\n",
       "    \"stem\",\n",
       "    \"stage1\",\n",
       "    \"stage2\",\n",
       "    \"stage3\",\n",
       "    \"stage4\"\n",
       "  ],\n",
       "  \"transformers_version\": \"4.36.2\"\n",
       "}"
      ]
     },
     "execution_count": 27,
     "metadata": {},
     "output_type": "execute_result"
    }
   ],
   "source": [
    "from transformers import ResNetForImageClassification, ResNetConfig\n",
    "from imports import *\n",
    "\n",
    "# ResNetConfig.num_labels = 10\n",
    "resnet = ResNetForImageClassification(ResNetConfig(num_labels=10))\n",
    "resnet.config"
   ]
  },
  {
   "cell_type": "code",
   "execution_count": 28,
   "metadata": {},
   "outputs": [
    {
     "data": {
      "text/plain": [
       "ResNetForImageClassification(\n",
       "  (resnet): ResNetModel(\n",
       "    (embedder): ResNetEmbeddings(\n",
       "      (embedder): ResNetConvLayer(\n",
       "        (convolution): Conv2d(3, 64, kernel_size=(7, 7), stride=(2, 2), padding=(3, 3), bias=False)\n",
       "        (normalization): BatchNorm2d(64, eps=1e-05, momentum=0.1, affine=True, track_running_stats=True)\n",
       "        (activation): ReLU()\n",
       "      )\n",
       "      (pooler): MaxPool2d(kernel_size=3, stride=2, padding=1, dilation=1, ceil_mode=False)\n",
       "    )\n",
       "    (encoder): ResNetEncoder(\n",
       "      (stages): ModuleList(\n",
       "        (0): ResNetStage(\n",
       "          (layers): Sequential(\n",
       "            (0): ResNetBottleNeckLayer(\n",
       "              (shortcut): ResNetShortCut(\n",
       "                (convolution): Conv2d(64, 256, kernel_size=(1, 1), stride=(1, 1), bias=False)\n",
       "                (normalization): BatchNorm2d(256, eps=1e-05, momentum=0.1, affine=True, track_running_stats=True)\n",
       "              )\n",
       "              (layer): Sequential(\n",
       "                (0): ResNetConvLayer(\n",
       "                  (convolution): Conv2d(64, 64, kernel_size=(1, 1), stride=(1, 1), bias=False)\n",
       "                  (normalization): BatchNorm2d(64, eps=1e-05, momentum=0.1, affine=True, track_running_stats=True)\n",
       "                  (activation): ReLU()\n",
       "                )\n",
       "                (1): ResNetConvLayer(\n",
       "                  (convolution): Conv2d(64, 64, kernel_size=(3, 3), stride=(1, 1), padding=(1, 1), bias=False)\n",
       "                  (normalization): BatchNorm2d(64, eps=1e-05, momentum=0.1, affine=True, track_running_stats=True)\n",
       "                  (activation): ReLU()\n",
       "                )\n",
       "                (2): ResNetConvLayer(\n",
       "                  (convolution): Conv2d(64, 256, kernel_size=(1, 1), stride=(1, 1), bias=False)\n",
       "                  (normalization): BatchNorm2d(256, eps=1e-05, momentum=0.1, affine=True, track_running_stats=True)\n",
       "                  (activation): Identity()\n",
       "                )\n",
       "              )\n",
       "              (activation): ReLU()\n",
       "            )\n",
       "            (1): ResNetBottleNeckLayer(\n",
       "              (shortcut): Identity()\n",
       "              (layer): Sequential(\n",
       "                (0): ResNetConvLayer(\n",
       "                  (convolution): Conv2d(256, 64, kernel_size=(1, 1), stride=(1, 1), bias=False)\n",
       "                  (normalization): BatchNorm2d(64, eps=1e-05, momentum=0.1, affine=True, track_running_stats=True)\n",
       "                  (activation): ReLU()\n",
       "                )\n",
       "                (1): ResNetConvLayer(\n",
       "                  (convolution): Conv2d(64, 64, kernel_size=(3, 3), stride=(1, 1), padding=(1, 1), bias=False)\n",
       "                  (normalization): BatchNorm2d(64, eps=1e-05, momentum=0.1, affine=True, track_running_stats=True)\n",
       "                  (activation): ReLU()\n",
       "                )\n",
       "                (2): ResNetConvLayer(\n",
       "                  (convolution): Conv2d(64, 256, kernel_size=(1, 1), stride=(1, 1), bias=False)\n",
       "                  (normalization): BatchNorm2d(256, eps=1e-05, momentum=0.1, affine=True, track_running_stats=True)\n",
       "                  (activation): Identity()\n",
       "                )\n",
       "              )\n",
       "              (activation): ReLU()\n",
       "            )\n",
       "            (2): ResNetBottleNeckLayer(\n",
       "              (shortcut): Identity()\n",
       "              (layer): Sequential(\n",
       "                (0): ResNetConvLayer(\n",
       "                  (convolution): Conv2d(256, 64, kernel_size=(1, 1), stride=(1, 1), bias=False)\n",
       "                  (normalization): BatchNorm2d(64, eps=1e-05, momentum=0.1, affine=True, track_running_stats=True)\n",
       "                  (activation): ReLU()\n",
       "                )\n",
       "                (1): ResNetConvLayer(\n",
       "                  (convolution): Conv2d(64, 64, kernel_size=(3, 3), stride=(1, 1), padding=(1, 1), bias=False)\n",
       "                  (normalization): BatchNorm2d(64, eps=1e-05, momentum=0.1, affine=True, track_running_stats=True)\n",
       "                  (activation): ReLU()\n",
       "                )\n",
       "                (2): ResNetConvLayer(\n",
       "                  (convolution): Conv2d(64, 256, kernel_size=(1, 1), stride=(1, 1), bias=False)\n",
       "                  (normalization): BatchNorm2d(256, eps=1e-05, momentum=0.1, affine=True, track_running_stats=True)\n",
       "                  (activation): Identity()\n",
       "                )\n",
       "              )\n",
       "              (activation): ReLU()\n",
       "            )\n",
       "          )\n",
       "        )\n",
       "        (1): ResNetStage(\n",
       "          (layers): Sequential(\n",
       "            (0): ResNetBottleNeckLayer(\n",
       "              (shortcut): ResNetShortCut(\n",
       "                (convolution): Conv2d(256, 512, kernel_size=(1, 1), stride=(2, 2), bias=False)\n",
       "                (normalization): BatchNorm2d(512, eps=1e-05, momentum=0.1, affine=True, track_running_stats=True)\n",
       "              )\n",
       "              (layer): Sequential(\n",
       "                (0): ResNetConvLayer(\n",
       "                  (convolution): Conv2d(256, 128, kernel_size=(1, 1), stride=(1, 1), bias=False)\n",
       "                  (normalization): BatchNorm2d(128, eps=1e-05, momentum=0.1, affine=True, track_running_stats=True)\n",
       "                  (activation): ReLU()\n",
       "                )\n",
       "                (1): ResNetConvLayer(\n",
       "                  (convolution): Conv2d(128, 128, kernel_size=(3, 3), stride=(2, 2), padding=(1, 1), bias=False)\n",
       "                  (normalization): BatchNorm2d(128, eps=1e-05, momentum=0.1, affine=True, track_running_stats=True)\n",
       "                  (activation): ReLU()\n",
       "                )\n",
       "                (2): ResNetConvLayer(\n",
       "                  (convolution): Conv2d(128, 512, kernel_size=(1, 1), stride=(1, 1), bias=False)\n",
       "                  (normalization): BatchNorm2d(512, eps=1e-05, momentum=0.1, affine=True, track_running_stats=True)\n",
       "                  (activation): Identity()\n",
       "                )\n",
       "              )\n",
       "              (activation): ReLU()\n",
       "            )\n",
       "            (1): ResNetBottleNeckLayer(\n",
       "              (shortcut): Identity()\n",
       "              (layer): Sequential(\n",
       "                (0): ResNetConvLayer(\n",
       "                  (convolution): Conv2d(512, 128, kernel_size=(1, 1), stride=(1, 1), bias=False)\n",
       "                  (normalization): BatchNorm2d(128, eps=1e-05, momentum=0.1, affine=True, track_running_stats=True)\n",
       "                  (activation): ReLU()\n",
       "                )\n",
       "                (1): ResNetConvLayer(\n",
       "                  (convolution): Conv2d(128, 128, kernel_size=(3, 3), stride=(1, 1), padding=(1, 1), bias=False)\n",
       "                  (normalization): BatchNorm2d(128, eps=1e-05, momentum=0.1, affine=True, track_running_stats=True)\n",
       "                  (activation): ReLU()\n",
       "                )\n",
       "                (2): ResNetConvLayer(\n",
       "                  (convolution): Conv2d(128, 512, kernel_size=(1, 1), stride=(1, 1), bias=False)\n",
       "                  (normalization): BatchNorm2d(512, eps=1e-05, momentum=0.1, affine=True, track_running_stats=True)\n",
       "                  (activation): Identity()\n",
       "                )\n",
       "              )\n",
       "              (activation): ReLU()\n",
       "            )\n",
       "            (2): ResNetBottleNeckLayer(\n",
       "              (shortcut): Identity()\n",
       "              (layer): Sequential(\n",
       "                (0): ResNetConvLayer(\n",
       "                  (convolution): Conv2d(512, 128, kernel_size=(1, 1), stride=(1, 1), bias=False)\n",
       "                  (normalization): BatchNorm2d(128, eps=1e-05, momentum=0.1, affine=True, track_running_stats=True)\n",
       "                  (activation): ReLU()\n",
       "                )\n",
       "                (1): ResNetConvLayer(\n",
       "                  (convolution): Conv2d(128, 128, kernel_size=(3, 3), stride=(1, 1), padding=(1, 1), bias=False)\n",
       "                  (normalization): BatchNorm2d(128, eps=1e-05, momentum=0.1, affine=True, track_running_stats=True)\n",
       "                  (activation): ReLU()\n",
       "                )\n",
       "                (2): ResNetConvLayer(\n",
       "                  (convolution): Conv2d(128, 512, kernel_size=(1, 1), stride=(1, 1), bias=False)\n",
       "                  (normalization): BatchNorm2d(512, eps=1e-05, momentum=0.1, affine=True, track_running_stats=True)\n",
       "                  (activation): Identity()\n",
       "                )\n",
       "              )\n",
       "              (activation): ReLU()\n",
       "            )\n",
       "            (3): ResNetBottleNeckLayer(\n",
       "              (shortcut): Identity()\n",
       "              (layer): Sequential(\n",
       "                (0): ResNetConvLayer(\n",
       "                  (convolution): Conv2d(512, 128, kernel_size=(1, 1), stride=(1, 1), bias=False)\n",
       "                  (normalization): BatchNorm2d(128, eps=1e-05, momentum=0.1, affine=True, track_running_stats=True)\n",
       "                  (activation): ReLU()\n",
       "                )\n",
       "                (1): ResNetConvLayer(\n",
       "                  (convolution): Conv2d(128, 128, kernel_size=(3, 3), stride=(1, 1), padding=(1, 1), bias=False)\n",
       "                  (normalization): BatchNorm2d(128, eps=1e-05, momentum=0.1, affine=True, track_running_stats=True)\n",
       "                  (activation): ReLU()\n",
       "                )\n",
       "                (2): ResNetConvLayer(\n",
       "                  (convolution): Conv2d(128, 512, kernel_size=(1, 1), stride=(1, 1), bias=False)\n",
       "                  (normalization): BatchNorm2d(512, eps=1e-05, momentum=0.1, affine=True, track_running_stats=True)\n",
       "                  (activation): Identity()\n",
       "                )\n",
       "              )\n",
       "              (activation): ReLU()\n",
       "            )\n",
       "          )\n",
       "        )\n",
       "        (2): ResNetStage(\n",
       "          (layers): Sequential(\n",
       "            (0): ResNetBottleNeckLayer(\n",
       "              (shortcut): ResNetShortCut(\n",
       "                (convolution): Conv2d(512, 1024, kernel_size=(1, 1), stride=(2, 2), bias=False)\n",
       "                (normalization): BatchNorm2d(1024, eps=1e-05, momentum=0.1, affine=True, track_running_stats=True)\n",
       "              )\n",
       "              (layer): Sequential(\n",
       "                (0): ResNetConvLayer(\n",
       "                  (convolution): Conv2d(512, 256, kernel_size=(1, 1), stride=(1, 1), bias=False)\n",
       "                  (normalization): BatchNorm2d(256, eps=1e-05, momentum=0.1, affine=True, track_running_stats=True)\n",
       "                  (activation): ReLU()\n",
       "                )\n",
       "                (1): ResNetConvLayer(\n",
       "                  (convolution): Conv2d(256, 256, kernel_size=(3, 3), stride=(2, 2), padding=(1, 1), bias=False)\n",
       "                  (normalization): BatchNorm2d(256, eps=1e-05, momentum=0.1, affine=True, track_running_stats=True)\n",
       "                  (activation): ReLU()\n",
       "                )\n",
       "                (2): ResNetConvLayer(\n",
       "                  (convolution): Conv2d(256, 1024, kernel_size=(1, 1), stride=(1, 1), bias=False)\n",
       "                  (normalization): BatchNorm2d(1024, eps=1e-05, momentum=0.1, affine=True, track_running_stats=True)\n",
       "                  (activation): Identity()\n",
       "                )\n",
       "              )\n",
       "              (activation): ReLU()\n",
       "            )\n",
       "            (1): ResNetBottleNeckLayer(\n",
       "              (shortcut): Identity()\n",
       "              (layer): Sequential(\n",
       "                (0): ResNetConvLayer(\n",
       "                  (convolution): Conv2d(1024, 256, kernel_size=(1, 1), stride=(1, 1), bias=False)\n",
       "                  (normalization): BatchNorm2d(256, eps=1e-05, momentum=0.1, affine=True, track_running_stats=True)\n",
       "                  (activation): ReLU()\n",
       "                )\n",
       "                (1): ResNetConvLayer(\n",
       "                  (convolution): Conv2d(256, 256, kernel_size=(3, 3), stride=(1, 1), padding=(1, 1), bias=False)\n",
       "                  (normalization): BatchNorm2d(256, eps=1e-05, momentum=0.1, affine=True, track_running_stats=True)\n",
       "                  (activation): ReLU()\n",
       "                )\n",
       "                (2): ResNetConvLayer(\n",
       "                  (convolution): Conv2d(256, 1024, kernel_size=(1, 1), stride=(1, 1), bias=False)\n",
       "                  (normalization): BatchNorm2d(1024, eps=1e-05, momentum=0.1, affine=True, track_running_stats=True)\n",
       "                  (activation): Identity()\n",
       "                )\n",
       "              )\n",
       "              (activation): ReLU()\n",
       "            )\n",
       "            (2): ResNetBottleNeckLayer(\n",
       "              (shortcut): Identity()\n",
       "              (layer): Sequential(\n",
       "                (0): ResNetConvLayer(\n",
       "                  (convolution): Conv2d(1024, 256, kernel_size=(1, 1), stride=(1, 1), bias=False)\n",
       "                  (normalization): BatchNorm2d(256, eps=1e-05, momentum=0.1, affine=True, track_running_stats=True)\n",
       "                  (activation): ReLU()\n",
       "                )\n",
       "                (1): ResNetConvLayer(\n",
       "                  (convolution): Conv2d(256, 256, kernel_size=(3, 3), stride=(1, 1), padding=(1, 1), bias=False)\n",
       "                  (normalization): BatchNorm2d(256, eps=1e-05, momentum=0.1, affine=True, track_running_stats=True)\n",
       "                  (activation): ReLU()\n",
       "                )\n",
       "                (2): ResNetConvLayer(\n",
       "                  (convolution): Conv2d(256, 1024, kernel_size=(1, 1), stride=(1, 1), bias=False)\n",
       "                  (normalization): BatchNorm2d(1024, eps=1e-05, momentum=0.1, affine=True, track_running_stats=True)\n",
       "                  (activation): Identity()\n",
       "                )\n",
       "              )\n",
       "              (activation): ReLU()\n",
       "            )\n",
       "            (3): ResNetBottleNeckLayer(\n",
       "              (shortcut): Identity()\n",
       "              (layer): Sequential(\n",
       "                (0): ResNetConvLayer(\n",
       "                  (convolution): Conv2d(1024, 256, kernel_size=(1, 1), stride=(1, 1), bias=False)\n",
       "                  (normalization): BatchNorm2d(256, eps=1e-05, momentum=0.1, affine=True, track_running_stats=True)\n",
       "                  (activation): ReLU()\n",
       "                )\n",
       "                (1): ResNetConvLayer(\n",
       "                  (convolution): Conv2d(256, 256, kernel_size=(3, 3), stride=(1, 1), padding=(1, 1), bias=False)\n",
       "                  (normalization): BatchNorm2d(256, eps=1e-05, momentum=0.1, affine=True, track_running_stats=True)\n",
       "                  (activation): ReLU()\n",
       "                )\n",
       "                (2): ResNetConvLayer(\n",
       "                  (convolution): Conv2d(256, 1024, kernel_size=(1, 1), stride=(1, 1), bias=False)\n",
       "                  (normalization): BatchNorm2d(1024, eps=1e-05, momentum=0.1, affine=True, track_running_stats=True)\n",
       "                  (activation): Identity()\n",
       "                )\n",
       "              )\n",
       "              (activation): ReLU()\n",
       "            )\n",
       "            (4): ResNetBottleNeckLayer(\n",
       "              (shortcut): Identity()\n",
       "              (layer): Sequential(\n",
       "                (0): ResNetConvLayer(\n",
       "                  (convolution): Conv2d(1024, 256, kernel_size=(1, 1), stride=(1, 1), bias=False)\n",
       "                  (normalization): BatchNorm2d(256, eps=1e-05, momentum=0.1, affine=True, track_running_stats=True)\n",
       "                  (activation): ReLU()\n",
       "                )\n",
       "                (1): ResNetConvLayer(\n",
       "                  (convolution): Conv2d(256, 256, kernel_size=(3, 3), stride=(1, 1), padding=(1, 1), bias=False)\n",
       "                  (normalization): BatchNorm2d(256, eps=1e-05, momentum=0.1, affine=True, track_running_stats=True)\n",
       "                  (activation): ReLU()\n",
       "                )\n",
       "                (2): ResNetConvLayer(\n",
       "                  (convolution): Conv2d(256, 1024, kernel_size=(1, 1), stride=(1, 1), bias=False)\n",
       "                  (normalization): BatchNorm2d(1024, eps=1e-05, momentum=0.1, affine=True, track_running_stats=True)\n",
       "                  (activation): Identity()\n",
       "                )\n",
       "              )\n",
       "              (activation): ReLU()\n",
       "            )\n",
       "            (5): ResNetBottleNeckLayer(\n",
       "              (shortcut): Identity()\n",
       "              (layer): Sequential(\n",
       "                (0): ResNetConvLayer(\n",
       "                  (convolution): Conv2d(1024, 256, kernel_size=(1, 1), stride=(1, 1), bias=False)\n",
       "                  (normalization): BatchNorm2d(256, eps=1e-05, momentum=0.1, affine=True, track_running_stats=True)\n",
       "                  (activation): ReLU()\n",
       "                )\n",
       "                (1): ResNetConvLayer(\n",
       "                  (convolution): Conv2d(256, 256, kernel_size=(3, 3), stride=(1, 1), padding=(1, 1), bias=False)\n",
       "                  (normalization): BatchNorm2d(256, eps=1e-05, momentum=0.1, affine=True, track_running_stats=True)\n",
       "                  (activation): ReLU()\n",
       "                )\n",
       "                (2): ResNetConvLayer(\n",
       "                  (convolution): Conv2d(256, 1024, kernel_size=(1, 1), stride=(1, 1), bias=False)\n",
       "                  (normalization): BatchNorm2d(1024, eps=1e-05, momentum=0.1, affine=True, track_running_stats=True)\n",
       "                  (activation): Identity()\n",
       "                )\n",
       "              )\n",
       "              (activation): ReLU()\n",
       "            )\n",
       "          )\n",
       "        )\n",
       "        (3): ResNetStage(\n",
       "          (layers): Sequential(\n",
       "            (0): ResNetBottleNeckLayer(\n",
       "              (shortcut): ResNetShortCut(\n",
       "                (convolution): Conv2d(1024, 2048, kernel_size=(1, 1), stride=(2, 2), bias=False)\n",
       "                (normalization): BatchNorm2d(2048, eps=1e-05, momentum=0.1, affine=True, track_running_stats=True)\n",
       "              )\n",
       "              (layer): Sequential(\n",
       "                (0): ResNetConvLayer(\n",
       "                  (convolution): Conv2d(1024, 512, kernel_size=(1, 1), stride=(1, 1), bias=False)\n",
       "                  (normalization): BatchNorm2d(512, eps=1e-05, momentum=0.1, affine=True, track_running_stats=True)\n",
       "                  (activation): ReLU()\n",
       "                )\n",
       "                (1): ResNetConvLayer(\n",
       "                  (convolution): Conv2d(512, 512, kernel_size=(3, 3), stride=(2, 2), padding=(1, 1), bias=False)\n",
       "                  (normalization): BatchNorm2d(512, eps=1e-05, momentum=0.1, affine=True, track_running_stats=True)\n",
       "                  (activation): ReLU()\n",
       "                )\n",
       "                (2): ResNetConvLayer(\n",
       "                  (convolution): Conv2d(512, 2048, kernel_size=(1, 1), stride=(1, 1), bias=False)\n",
       "                  (normalization): BatchNorm2d(2048, eps=1e-05, momentum=0.1, affine=True, track_running_stats=True)\n",
       "                  (activation): Identity()\n",
       "                )\n",
       "              )\n",
       "              (activation): ReLU()\n",
       "            )\n",
       "            (1): ResNetBottleNeckLayer(\n",
       "              (shortcut): Identity()\n",
       "              (layer): Sequential(\n",
       "                (0): ResNetConvLayer(\n",
       "                  (convolution): Conv2d(2048, 512, kernel_size=(1, 1), stride=(1, 1), bias=False)\n",
       "                  (normalization): BatchNorm2d(512, eps=1e-05, momentum=0.1, affine=True, track_running_stats=True)\n",
       "                  (activation): ReLU()\n",
       "                )\n",
       "                (1): ResNetConvLayer(\n",
       "                  (convolution): Conv2d(512, 512, kernel_size=(3, 3), stride=(1, 1), padding=(1, 1), bias=False)\n",
       "                  (normalization): BatchNorm2d(512, eps=1e-05, momentum=0.1, affine=True, track_running_stats=True)\n",
       "                  (activation): ReLU()\n",
       "                )\n",
       "                (2): ResNetConvLayer(\n",
       "                  (convolution): Conv2d(512, 2048, kernel_size=(1, 1), stride=(1, 1), bias=False)\n",
       "                  (normalization): BatchNorm2d(2048, eps=1e-05, momentum=0.1, affine=True, track_running_stats=True)\n",
       "                  (activation): Identity()\n",
       "                )\n",
       "              )\n",
       "              (activation): ReLU()\n",
       "            )\n",
       "            (2): ResNetBottleNeckLayer(\n",
       "              (shortcut): Identity()\n",
       "              (layer): Sequential(\n",
       "                (0): ResNetConvLayer(\n",
       "                  (convolution): Conv2d(2048, 512, kernel_size=(1, 1), stride=(1, 1), bias=False)\n",
       "                  (normalization): BatchNorm2d(512, eps=1e-05, momentum=0.1, affine=True, track_running_stats=True)\n",
       "                  (activation): ReLU()\n",
       "                )\n",
       "                (1): ResNetConvLayer(\n",
       "                  (convolution): Conv2d(512, 512, kernel_size=(3, 3), stride=(1, 1), padding=(1, 1), bias=False)\n",
       "                  (normalization): BatchNorm2d(512, eps=1e-05, momentum=0.1, affine=True, track_running_stats=True)\n",
       "                  (activation): ReLU()\n",
       "                )\n",
       "                (2): ResNetConvLayer(\n",
       "                  (convolution): Conv2d(512, 2048, kernel_size=(1, 1), stride=(1, 1), bias=False)\n",
       "                  (normalization): BatchNorm2d(2048, eps=1e-05, momentum=0.1, affine=True, track_running_stats=True)\n",
       "                  (activation): Identity()\n",
       "                )\n",
       "              )\n",
       "              (activation): ReLU()\n",
       "            )\n",
       "          )\n",
       "        )\n",
       "      )\n",
       "    )\n",
       "    (pooler): AdaptiveAvgPool2d(output_size=(1, 1))\n",
       "  )\n",
       "  (classifier): Sequential(\n",
       "    (0): Flatten(start_dim=1, end_dim=-1)\n",
       "    (1): Linear(in_features=2048, out_features=10, bias=True)\n",
       "  )\n",
       ")"
      ]
     },
     "execution_count": 28,
     "metadata": {},
     "output_type": "execute_result"
    }
   ],
   "source": [
    "resnet"
   ]
  },
  {
   "cell_type": "code",
   "execution_count": 29,
   "metadata": {},
   "outputs": [
    {
     "name": "stdout",
     "output_type": "stream",
     "text": [
      "mps\n"
     ]
    }
   ],
   "source": [
    "# Ensure the model is on the correct device\n",
    "device = torch.device(\"mps\")\n",
    "print(device)\n",
    "resnet = resnet.to(device)\n",
    "\n",
    "# Loss function and optimizer\n",
    "criterion = nn.CrossEntropyLoss()\n",
    "optimizer = optim.Adam(resnet.parameters(), lr=0.001)\n",
    "\n",
    "# Number of training epochs\n",
    "num_epochs = 5"
   ]
  },
  {
   "cell_type": "code",
   "execution_count": 30,
   "metadata": {},
   "outputs": [
    {
     "name": "stderr",
     "output_type": "stream",
     "text": [
      "  0%|          | 0/5 [00:00<?, ?it/s]"
     ]
    },
    {
     "name": "stdout",
     "output_type": "stream",
     "text": [
      "The shape of the embedding is:  torch.Size([2000, 64, 14, 14])\n",
      "The shape of the embedding is:  torch.Size([2000, 64, 14, 14])\n",
      "The shape of the hidden state is:  torch.Size([2000, 64, 14, 14])\n"
     ]
    },
    {
     "name": "stderr",
     "output_type": "stream",
     "text": []
    },
    {
     "name": "stdout",
     "output_type": "stream",
     "text": [
      "The shape of the embedding is:  torch.Size([2000, 64, 14, 14])\n",
      "The shape of the embedding is:  torch.Size([2000, 64, 14, 14])\n",
      "The shape of the hidden state is:  torch.Size([2000, 64, 14, 14])\n"
     ]
    },
    {
     "name": "stderr",
     "output_type": "stream",
     "text": [
      "  1%|          | 1/118 [00:12<24:18, 12.47s/it]\n",
      "  0%|          | 0/5 [00:12<?, ?it/s]\n"
     ]
    },
    {
     "ename": "KeyboardInterrupt",
     "evalue": "",
     "output_type": "error",
     "traceback": [
      "\u001b[0;31m---------------------------------------------------------------------------\u001b[0m",
      "\u001b[0;31mKeyboardInterrupt\u001b[0m                         Traceback (most recent call last)",
      "Cell \u001b[0;32mIn[30], line 57\u001b[0m\n\u001b[1;32m     55\u001b[0m logits \u001b[38;5;241m=\u001b[39m output\u001b[38;5;241m.\u001b[39mlogits \n\u001b[1;32m     56\u001b[0m loss \u001b[38;5;241m=\u001b[39m criterion(logits, target)\n\u001b[0;32m---> 57\u001b[0m \u001b[43mloss\u001b[49m\u001b[38;5;241;43m.\u001b[39;49m\u001b[43mbackward\u001b[49m\u001b[43m(\u001b[49m\u001b[43m)\u001b[49m\n\u001b[1;32m     58\u001b[0m optimizer\u001b[38;5;241m.\u001b[39mstep()\n\u001b[1;32m     59\u001b[0m total_loss \u001b[38;5;241m+\u001b[39m\u001b[38;5;241m=\u001b[39m loss\u001b[38;5;241m.\u001b[39mitem()\n",
      "File \u001b[0;32m~/pytorch/env/lib/python3.11/site-packages/torch/_tensor.py:492\u001b[0m, in \u001b[0;36mTensor.backward\u001b[0;34m(self, gradient, retain_graph, create_graph, inputs)\u001b[0m\n\u001b[1;32m    482\u001b[0m \u001b[38;5;28;01mif\u001b[39;00m has_torch_function_unary(\u001b[38;5;28mself\u001b[39m):\n\u001b[1;32m    483\u001b[0m     \u001b[38;5;28;01mreturn\u001b[39;00m handle_torch_function(\n\u001b[1;32m    484\u001b[0m         Tensor\u001b[38;5;241m.\u001b[39mbackward,\n\u001b[1;32m    485\u001b[0m         (\u001b[38;5;28mself\u001b[39m,),\n\u001b[0;32m   (...)\u001b[0m\n\u001b[1;32m    490\u001b[0m         inputs\u001b[38;5;241m=\u001b[39minputs,\n\u001b[1;32m    491\u001b[0m     )\n\u001b[0;32m--> 492\u001b[0m \u001b[43mtorch\u001b[49m\u001b[38;5;241;43m.\u001b[39;49m\u001b[43mautograd\u001b[49m\u001b[38;5;241;43m.\u001b[39;49m\u001b[43mbackward\u001b[49m\u001b[43m(\u001b[49m\n\u001b[1;32m    493\u001b[0m \u001b[43m    \u001b[49m\u001b[38;5;28;43mself\u001b[39;49m\u001b[43m,\u001b[49m\u001b[43m \u001b[49m\u001b[43mgradient\u001b[49m\u001b[43m,\u001b[49m\u001b[43m \u001b[49m\u001b[43mretain_graph\u001b[49m\u001b[43m,\u001b[49m\u001b[43m \u001b[49m\u001b[43mcreate_graph\u001b[49m\u001b[43m,\u001b[49m\u001b[43m \u001b[49m\u001b[43minputs\u001b[49m\u001b[38;5;241;43m=\u001b[39;49m\u001b[43minputs\u001b[49m\n\u001b[1;32m    494\u001b[0m \u001b[43m\u001b[49m\u001b[43m)\u001b[49m\n",
      "File \u001b[0;32m~/pytorch/env/lib/python3.11/site-packages/torch/autograd/__init__.py:251\u001b[0m, in \u001b[0;36mbackward\u001b[0;34m(tensors, grad_tensors, retain_graph, create_graph, grad_variables, inputs)\u001b[0m\n\u001b[1;32m    246\u001b[0m     retain_graph \u001b[38;5;241m=\u001b[39m create_graph\n\u001b[1;32m    248\u001b[0m \u001b[38;5;66;03m# The reason we repeat the same comment below is that\u001b[39;00m\n\u001b[1;32m    249\u001b[0m \u001b[38;5;66;03m# some Python versions print out the first line of a multi-line function\u001b[39;00m\n\u001b[1;32m    250\u001b[0m \u001b[38;5;66;03m# calls in the traceback and some print out the last line\u001b[39;00m\n\u001b[0;32m--> 251\u001b[0m \u001b[43mVariable\u001b[49m\u001b[38;5;241;43m.\u001b[39;49m\u001b[43m_execution_engine\u001b[49m\u001b[38;5;241;43m.\u001b[39;49m\u001b[43mrun_backward\u001b[49m\u001b[43m(\u001b[49m\u001b[43m  \u001b[49m\u001b[38;5;66;43;03m# Calls into the C++ engine to run the backward pass\u001b[39;49;00m\n\u001b[1;32m    252\u001b[0m \u001b[43m    \u001b[49m\u001b[43mtensors\u001b[49m\u001b[43m,\u001b[49m\n\u001b[1;32m    253\u001b[0m \u001b[43m    \u001b[49m\u001b[43mgrad_tensors_\u001b[49m\u001b[43m,\u001b[49m\n\u001b[1;32m    254\u001b[0m \u001b[43m    \u001b[49m\u001b[43mretain_graph\u001b[49m\u001b[43m,\u001b[49m\n\u001b[1;32m    255\u001b[0m \u001b[43m    \u001b[49m\u001b[43mcreate_graph\u001b[49m\u001b[43m,\u001b[49m\n\u001b[1;32m    256\u001b[0m \u001b[43m    \u001b[49m\u001b[43minputs\u001b[49m\u001b[43m,\u001b[49m\n\u001b[1;32m    257\u001b[0m \u001b[43m    \u001b[49m\u001b[43mallow_unreachable\u001b[49m\u001b[38;5;241;43m=\u001b[39;49m\u001b[38;5;28;43;01mTrue\u001b[39;49;00m\u001b[43m,\u001b[49m\n\u001b[1;32m    258\u001b[0m \u001b[43m    \u001b[49m\u001b[43maccumulate_grad\u001b[49m\u001b[38;5;241;43m=\u001b[39;49m\u001b[38;5;28;43;01mTrue\u001b[39;49;00m\u001b[43m,\u001b[49m\n\u001b[1;32m    259\u001b[0m \u001b[43m\u001b[49m\u001b[43m)\u001b[49m\n",
      "\u001b[0;31mKeyboardInterrupt\u001b[0m: "
     ]
    },
    {
     "ename": "",
     "evalue": "",
     "output_type": "error",
     "traceback": [
      "\u001b[1;31mThe Kernel crashed while executing code in the the current cell or a previous cell. Please review the code in the cell(s) to identify a possible cause of the failure. Click <a href='https://aka.ms/vscodeJupyterKernelCrash'>here</a> for more info. View Jupyter <a href='command:jupyter.viewOutput'>log</a> for further details."
     ]
    }
   ],
   "source": [
    "def calculate_accuracy(model, images, labels, device, batch_size):\n",
    "    model.eval()\n",
    "    correct = 0\n",
    "    total = 0\n",
    "\n",
    "    with torch.no_grad():\n",
    "        for i in range(0, len(images), batch_size):\n",
    "            data = images[i:i+batch_size].to(device)\n",
    "            target = labels[i:i+batch_size].to(device)\n",
    "\n",
    "            outputs = model(data)\n",
    "            logits = outputs.logits \n",
    "            _, predicted = torch.max(logits.data, 1)\n",
    "\n",
    "            total += target.size(0)\n",
    "            correct += (predicted == target).sum().item()\n",
    "\n",
    "    return 100 * correct / total\n",
    "\n",
    "validation_fraction = 0.2  \n",
    "\n",
    "\n",
    "num_training_samples = len(train_labels)\n",
    "num_validation_samples = int(num_training_samples * validation_fraction)\n",
    "\n",
    "\n",
    "val_indices = np.random.choice(num_training_samples, num_validation_samples, replace=False)\n",
    "train_indices = np.array(list(set(range(num_training_samples)) - set(val_indices)))\n",
    "\n",
    "\n",
    "val_images = train_images[val_indices]\n",
    "val_labels = train_labels[val_indices]\n",
    "new_train_images = train_images[train_indices]\n",
    "new_train_labels = train_labels[train_indices]\n",
    "\n",
    "\n",
    "\n",
    "mean, std = 0.1307, 0.3081\n",
    "train_images = (train_images - mean) / std  \n",
    "\n",
    "\n",
    "batch_size = 2000  \n",
    "\n",
    "for epoch in tqdm(range(num_epochs)):\n",
    "    resnet.train() \n",
    "    total_loss = 0\n",
    "\n",
    "\n",
    "    for i in tqdm(range(0, len(new_train_images), batch_size)):\n",
    "        data = new_train_images[i:i+batch_size].to(device)\n",
    "        target = new_train_labels[i:i+batch_size].to(device)\n",
    "\n",
    "        optimizer.zero_grad()\n",
    "        output = resnet(data)\n",
    "        logits = output.logits \n",
    "        loss = criterion(logits, target)\n",
    "        loss.backward()\n",
    "        optimizer.step()\n",
    "        total_loss += loss.item()\n",
    "\n",
    "    train_loss = total_loss / (len(new_train_images) // batch_size)\n",
    "\n",
    "\n",
    "    train_accuracy = calculate_accuracy(resnet, new_train_images, new_train_labels, device, batch_size)\n",
    "    val_accuracy = calculate_accuracy(resnet, val_images, val_labels, device, batch_size)\n",
    "\n",
    "    print(f'Epoch {epoch+1}, Train Loss: {train_loss:.4f}, Train Accuracy: {train_accuracy:.2f}%, Val Accuracy: {val_accuracy:.2f}%')\n"
   ]
  },
  {
   "cell_type": "code",
   "execution_count": null,
   "metadata": {},
   "outputs": [],
   "source": [
    "resnet.save_pretrained('resnet_pvr_model')"
   ]
  },
  {
   "cell_type": "code",
   "execution_count": null,
   "metadata": {},
   "outputs": [],
   "source": [
    "torch.save(resnet.state_dict(), 'resnet_pvr_model/resnet_state_dict.pth')"
   ]
  },
  {
   "cell_type": "markdown",
   "metadata": {},
   "source": [
    "## 🪨🔨 Evaluation"
   ]
  },
  {
   "cell_type": "code",
   "execution_count": null,
   "metadata": {},
   "outputs": [],
   "source": [
    "from imports import *\n",
    "from transformers import ResNetForImageClassification, ResNetConfig\n",
    "\n",
    "resnet_trained = ResNetForImageClassification.from_pretrained('resnet_pvr_model')"
   ]
  },
  {
   "cell_type": "code",
   "execution_count": null,
   "metadata": {},
   "outputs": [
    {
     "name": "stderr",
     "output_type": "stream",
     "text": [
      "100%|██████████| 706818/706818 [4:35:32<00:00, 42.75it/s]     "
     ]
    },
    {
     "name": "stdout",
     "output_type": "stream",
     "text": [
      "Accuracy of the model on the training images: 49.37%\n"
     ]
    },
    {
     "name": "stderr",
     "output_type": "stream",
     "text": [
      "\n"
     ]
    }
   ],
   "source": [
    "correct = 0\n",
    "total = 0\n",
    "device = torch.device(\"mps\")\n",
    "resnet_trained.eval().to(device)\n",
    "\n",
    "with torch.no_grad():\n",
    "    for i in tqdm(range(len(test_images))):\n",
    "        # Move tensors to the configured device\n",
    "        images = test_images[i].unsqueeze(0)\n",
    "        images = images.to(device)\n",
    "        labels = torch.tensor([test_labels[i]]).to(device)\n",
    "        \n",
    "        # Forward pass: compute the model output\n",
    "        outputs = resnet_trained(images)\n",
    "        \n",
    "        # Get the predictions\n",
    "        _, predicted = torch.max(outputs.logits, 1)\n",
    "        \n",
    "        # Update the counts\n",
    "        total += labels.size(0)\n",
    "        correct += (predicted == labels).sum().item()\n",
    "\n",
    "# Calculate the accuracy\n",
    "accuracy = 100 * correct / total\n",
    "print(f'Accuracy of the model on the training images: {accuracy:.2f}%') "
   ]
  },
  {
   "cell_type": "code",
   "execution_count": null,
   "metadata": {},
   "outputs": [],
   "source": []
  }
 ],
 "metadata": {
  "kernelspec": {
   "display_name": "Python 3",
   "language": "python",
   "name": "python3"
  },
  "language_info": {
   "codemirror_mode": {
    "name": "ipython",
    "version": 3
   },
   "file_extension": ".py",
   "mimetype": "text/x-python",
   "name": "python",
   "nbconvert_exporter": "python",
   "pygments_lexer": "ipython3",
   "version": "3.11.4"
  }
 },
 "nbformat": 4,
 "nbformat_minor": 2
}
